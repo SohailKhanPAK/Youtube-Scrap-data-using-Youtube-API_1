{
  "nbformat": 4,
  "nbformat_minor": 0,
  "metadata": {
    "colab": {
      "name": "scrap YouTube data using Youtube_API .ipynb",
      "provenance": [],
      "include_colab_link": true
    },
    "kernelspec": {
      "name": "python3",
      "display_name": "Python 3"
    },
    "language_info": {
      "name": "python"
    }
  },
  "cells": [
    {
      "cell_type": "markdown",
      "metadata": {
        "id": "view-in-github",
        "colab_type": "text"
      },
      "source": [
        "<a href=\"https://colab.research.google.com/github/SohailKhanPAK/Youtube-Scrap-data-using-Youtube-API_1/blob/main/scrap_YouTube_data_using_Youtube_API_.ipynb\" target=\"_parent\"><img src=\"https://colab.research.google.com/assets/colab-badge.svg\" alt=\"Open In Colab\"/></a>"
      ]
    },
    {
      "cell_type": "code",
      "metadata": {
        "colab": {
          "base_uri": "https://localhost:8080/"
        },
        "id": "Km9UOSCIdVIi",
        "outputId": "0dc15447-bd34-4c1b-a004-bfcd3186e3b7"
      },
      "source": [
        "pip install google-api-python-client"
      ],
      "execution_count": null,
      "outputs": [
        {
          "output_type": "stream",
          "text": [
            "Requirement already satisfied: google-api-python-client in /usr/local/lib/python3.7/dist-packages (1.12.8)\n",
            "Requirement already satisfied: uritemplate<4dev,>=3.0.0 in /usr/local/lib/python3.7/dist-packages (from google-api-python-client) (3.0.1)\n",
            "Requirement already satisfied: httplib2<1dev,>=0.15.0 in /usr/local/lib/python3.7/dist-packages (from google-api-python-client) (0.17.4)\n",
            "Requirement already satisfied: google-api-core<2dev,>=1.21.0 in /usr/local/lib/python3.7/dist-packages (from google-api-python-client) (1.26.3)\n",
            "Requirement already satisfied: google-auth-httplib2>=0.0.3 in /usr/local/lib/python3.7/dist-packages (from google-api-python-client) (0.0.4)\n",
            "Requirement already satisfied: google-auth>=1.16.0 in /usr/local/lib/python3.7/dist-packages (from google-api-python-client) (1.30.0)\n",
            "Requirement already satisfied: six<2dev,>=1.13.0 in /usr/local/lib/python3.7/dist-packages (from google-api-python-client) (1.15.0)\n",
            "Requirement already satisfied: packaging>=14.3 in /usr/local/lib/python3.7/dist-packages (from google-api-core<2dev,>=1.21.0->google-api-python-client) (20.9)\n",
            "Requirement already satisfied: setuptools>=40.3.0 in /usr/local/lib/python3.7/dist-packages (from google-api-core<2dev,>=1.21.0->google-api-python-client) (56.1.0)\n",
            "Requirement already satisfied: protobuf>=3.12.0 in /usr/local/lib/python3.7/dist-packages (from google-api-core<2dev,>=1.21.0->google-api-python-client) (3.12.4)\n",
            "Requirement already satisfied: requests<3.0.0dev,>=2.18.0 in /usr/local/lib/python3.7/dist-packages (from google-api-core<2dev,>=1.21.0->google-api-python-client) (2.23.0)\n",
            "Requirement already satisfied: googleapis-common-protos<2.0dev,>=1.6.0 in /usr/local/lib/python3.7/dist-packages (from google-api-core<2dev,>=1.21.0->google-api-python-client) (1.53.0)\n",
            "Requirement already satisfied: pytz in /usr/local/lib/python3.7/dist-packages (from google-api-core<2dev,>=1.21.0->google-api-python-client) (2018.9)\n",
            "Requirement already satisfied: pyasn1-modules>=0.2.1 in /usr/local/lib/python3.7/dist-packages (from google-auth>=1.16.0->google-api-python-client) (0.2.8)\n",
            "Requirement already satisfied: cachetools<5.0,>=2.0.0 in /usr/local/lib/python3.7/dist-packages (from google-auth>=1.16.0->google-api-python-client) (4.2.2)\n",
            "Requirement already satisfied: rsa<5,>=3.1.4; python_version >= \"3.6\" in /usr/local/lib/python3.7/dist-packages (from google-auth>=1.16.0->google-api-python-client) (4.7.2)\n",
            "Requirement already satisfied: pyparsing>=2.0.2 in /usr/local/lib/python3.7/dist-packages (from packaging>=14.3->google-api-core<2dev,>=1.21.0->google-api-python-client) (2.4.7)\n",
            "Requirement already satisfied: chardet<4,>=3.0.2 in /usr/local/lib/python3.7/dist-packages (from requests<3.0.0dev,>=2.18.0->google-api-core<2dev,>=1.21.0->google-api-python-client) (3.0.4)\n",
            "Requirement already satisfied: idna<3,>=2.5 in /usr/local/lib/python3.7/dist-packages (from requests<3.0.0dev,>=2.18.0->google-api-core<2dev,>=1.21.0->google-api-python-client) (2.10)\n",
            "Requirement already satisfied: certifi>=2017.4.17 in /usr/local/lib/python3.7/dist-packages (from requests<3.0.0dev,>=2.18.0->google-api-core<2dev,>=1.21.0->google-api-python-client) (2020.12.5)\n",
            "Requirement already satisfied: urllib3!=1.25.0,!=1.25.1,<1.26,>=1.21.1 in /usr/local/lib/python3.7/dist-packages (from requests<3.0.0dev,>=2.18.0->google-api-core<2dev,>=1.21.0->google-api-python-client) (1.24.3)\n",
            "Requirement already satisfied: pyasn1<0.5.0,>=0.4.6 in /usr/local/lib/python3.7/dist-packages (from pyasn1-modules>=0.2.1->google-auth>=1.16.0->google-api-python-client) (0.4.8)\n"
          ],
          "name": "stdout"
        }
      ]
    },
    {
      "cell_type": "code",
      "metadata": {
        "colab": {
          "base_uri": "https://localhost:8080/"
        },
        "id": "523XE6Vaf8_O",
        "outputId": "987af2e5-275e-4948-aabb-271a332e72d2"
      },
      "source": [
        "pip install google-auth google-auth-oauthlib google-auth-httplib2"
      ],
      "execution_count": null,
      "outputs": [
        {
          "output_type": "stream",
          "text": [
            "Requirement already satisfied: google-auth in /usr/local/lib/python3.7/dist-packages (1.30.0)\n",
            "Requirement already satisfied: google-auth-oauthlib in /usr/local/lib/python3.7/dist-packages (0.4.4)\n",
            "Requirement already satisfied: google-auth-httplib2 in /usr/local/lib/python3.7/dist-packages (0.0.4)\n",
            "Requirement already satisfied: pyasn1-modules>=0.2.1 in /usr/local/lib/python3.7/dist-packages (from google-auth) (0.2.8)\n",
            "Requirement already satisfied: cachetools<5.0,>=2.0.0 in /usr/local/lib/python3.7/dist-packages (from google-auth) (4.2.2)\n",
            "Requirement already satisfied: setuptools>=40.3.0 in /usr/local/lib/python3.7/dist-packages (from google-auth) (56.1.0)\n",
            "Requirement already satisfied: rsa<5,>=3.1.4; python_version >= \"3.6\" in /usr/local/lib/python3.7/dist-packages (from google-auth) (4.7.2)\n",
            "Requirement already satisfied: six>=1.9.0 in /usr/local/lib/python3.7/dist-packages (from google-auth) (1.15.0)\n",
            "Requirement already satisfied: requests-oauthlib>=0.7.0 in /usr/local/lib/python3.7/dist-packages (from google-auth-oauthlib) (1.3.0)\n",
            "Requirement already satisfied: httplib2>=0.9.1 in /usr/local/lib/python3.7/dist-packages (from google-auth-httplib2) (0.17.4)\n",
            "Requirement already satisfied: pyasn1<0.5.0,>=0.4.6 in /usr/local/lib/python3.7/dist-packages (from pyasn1-modules>=0.2.1->google-auth) (0.4.8)\n",
            "Requirement already satisfied: oauthlib>=3.0.0 in /usr/local/lib/python3.7/dist-packages (from requests-oauthlib>=0.7.0->google-auth-oauthlib) (3.1.0)\n",
            "Requirement already satisfied: requests>=2.0.0 in /usr/local/lib/python3.7/dist-packages (from requests-oauthlib>=0.7.0->google-auth-oauthlib) (2.23.0)\n",
            "Requirement already satisfied: chardet<4,>=3.0.2 in /usr/local/lib/python3.7/dist-packages (from requests>=2.0.0->requests-oauthlib>=0.7.0->google-auth-oauthlib) (3.0.4)\n",
            "Requirement already satisfied: certifi>=2017.4.17 in /usr/local/lib/python3.7/dist-packages (from requests>=2.0.0->requests-oauthlib>=0.7.0->google-auth-oauthlib) (2020.12.5)\n",
            "Requirement already satisfied: urllib3!=1.25.0,!=1.25.1,<1.26,>=1.21.1 in /usr/local/lib/python3.7/dist-packages (from requests>=2.0.0->requests-oauthlib>=0.7.0->google-auth-oauthlib) (1.24.3)\n",
            "Requirement already satisfied: idna<3,>=2.5 in /usr/local/lib/python3.7/dist-packages (from requests>=2.0.0->requests-oauthlib>=0.7.0->google-auth-oauthlib) (2.10)\n"
          ],
          "name": "stdout"
        }
      ]
    },
    {
      "cell_type": "code",
      "metadata": {
        "id": "WGShIQZrgYCv"
      },
      "source": [
        "CLIENT_SECRETS_FILE = \"/content/client_secret_262745783865-fa0eadrqbpd4lntd9m11hgvpd6rc0o0e.apps.googleusercontent.com (1).json\""
      ],
      "execution_count": null,
      "outputs": []
    },
    {
      "cell_type": "code",
      "metadata": {
        "id": "cWXyuQ7wgi3n"
      },
      "source": [
        "\n",
        "SCOPES = ['https://www.googleapis.com/auth/youtube.force-ssl']\n",
        "API_SERVICE_NAME = 'youtube'\n",
        "API_VERSION = 'v3'"
      ],
      "execution_count": null,
      "outputs": []
    },
    {
      "cell_type": "code",
      "metadata": {
        "id": "W81KgTxwgrkg"
      },
      "source": [
        "import google.oauth2.credentials\n",
        " \n",
        "from googleapiclient.discovery import build\n",
        "from googleapiclient.errors import HttpError\n",
        "from google_auth_oauthlib.flow import InstalledAppFlow\n",
        " \n",
        "def get_authenticated_service():\n",
        "    flow = InstalledAppFlow.from_client_secrets_file(CLIENT_SECRETS_FILE, SCOPES)\n",
        "    credentials = flow.run_console()\n",
        "    return build(API_SERVICE_NAME, API_VERSION, credentials = credentials)"
      ],
      "execution_count": null,
      "outputs": []
    },
    {
      "cell_type": "code",
      "metadata": {
        "colab": {
          "base_uri": "https://localhost:8080/"
        },
        "id": "f5_q09ekgyY3",
        "outputId": "c906edbe-1f86-40f4-ca42-cdeb623cc563"
      },
      "source": [
        "import os\n",
        "if __name__ == '__main__':\n",
        "    # When running locally, disable OAuthlib's HTTPs verification. When\n",
        "    # running in production *do not* leave this option enabled.\n",
        "    os.environ['OAUTHLIB_INSECURE_TRANSPORT'] = '1'\n",
        "    service = get_authenticated_service()"
      ],
      "execution_count": null,
      "outputs": [
        {
          "output_type": "stream",
          "text": [
            "Please visit this URL to authorize this application: https://accounts.google.com/o/oauth2/auth?response_type=code&client_id=262745783865-fa0eadrqbpd4lntd9m11hgvpd6rc0o0e.apps.googleusercontent.com&redirect_uri=urn%3Aietf%3Awg%3Aoauth%3A2.0%3Aoob&scope=https%3A%2F%2Fwww.googleapis.com%2Fauth%2Fyoutube.force-ssl&state=G3FmAogep4v5y5Ejz1jsrbaqXWlzfE&prompt=consent&access_type=offline\n",
            "Enter the authorization code: 4/1AY0e-g5Bvvs6GdCDn37c1WYzR3_5h-LHETSgQgT1sdQKy6tKlDjaeqDkK8s\n"
          ],
          "name": "stdout"
        }
      ]
    },
    {
      "cell_type": "code",
      "metadata": {
        "id": "IoOkoVixg2wE"
      },
      "source": [
        "import os\n",
        "import pickle\n",
        "import google.oauth2.credentials\n",
        "\n",
        "from googleapiclient.discovery import build\n",
        "from googleapiclient.errors import HttpError\n",
        "from google_auth_oauthlib.flow import InstalledAppFlow\n",
        "from google.auth.transport.requests import Request\n",
        "\n",
        "...\n",
        "...\n",
        "\n",
        "def get_authenticated_service():\n",
        "    credentials = None\n",
        "    if os.path.exists('token.pickle'):\n",
        "        with open('token.pickle', 'rb') as token:\n",
        "            credentials = pickle.load(token)\n",
        "    #  Check if the credentials are invalid or do not exist\n",
        "    if not credentials or not credentials.valid:\n",
        "        # Check if the credentials have expired\n",
        "        if credentials and credentials.expired and credentials.refresh_token:\n",
        "            credentials.refresh(Request())\n",
        "        else:\n",
        "            flow = InstalledAppFlow.from_client_secrets_file(\n",
        "                CLIENT_SECRETS_FILE, SCOPES)\n",
        "            credentials = flow.run_console()\n",
        "\n",
        "        # Save the credentials for the next run\n",
        "        with open('token.pickle', 'wb') as token:\n",
        "            pickle.dump(credentials, token)\n",
        "\n",
        "    return build(API_SERVICE_NAME, API_VERSION, credentials = credentials)\n"
      ],
      "execution_count": null,
      "outputs": []
    },
    {
      "cell_type": "code",
      "metadata": {
        "colab": {
          "base_uri": "https://localhost:8080/"
        },
        "id": "X6qbvwjMjJun",
        "outputId": "8f54c6d3-d927-4317-b76e-ad25e63facf7"
      },
      "source": [
        "\n",
        "def get_videos(service, **kwargs):\n",
        "    final_results = []\n",
        "    results = service.search().list(**kwargs).execute()\n",
        "\n",
        "    i = 0\n",
        "    max_pages = 3\n",
        "    while results and i < max_pages:\n",
        "        final_results.extend(results['items'])\n",
        "\n",
        "        # Check if another page exists\n",
        "        if 'nextPageToken' in results:\n",
        "            kwargs['pageToken'] = results['nextPageToken']\n",
        "            results = service.search().list(**kwargs).execute()\n",
        "            i += 1\n",
        "        else:\n",
        "            break\n",
        "\n",
        "    return final_results\n",
        "\n",
        "def search_videos_by_keyword(service, **kwargs):\n",
        "    results = get_videos(service, **kwargs)\n",
        "    for item in results:\n",
        "        print('%s - %s' % (item['snippet']['title'], item['id']['videoId']))\n",
        "\n",
        "\n",
        "keyword = input('Enter a keyword: ')\n",
        "search_videos_by_keyword(service, q=keyword, part='id,snippet', eventType='completed', type='video')\n"
      ],
      "execution_count": null,
      "outputs": [
        {
          "output_type": "stream",
          "text": [
            "Enter a keyword: f\n",
            "F DE FÚTBOL dominical: Convocatoria de La Tri  | Emelec mantiene el primer lugar - TYJf2ty-ezE\n",
            "Talking About F***BOY - 9Vc8BGYlSTg\n",
            "$1,5M Meltwater Champions Chess Tour: FTX Crypto Cup F 1 | J. Gustafsson, R. Kasimjanov, S. Bluhm - M2uAB7s5Zzk\n",
            "EQUIPO F - LAS TRAICIONES DE SÁNCHEZ - jiLUYzSoq-c\n",
            "THIS SCAM HAS GONE WAY TOO F***ING FAR!!!!!! - c9i_ppg5rJg\n",
            "Ford F-150 Lightning: Forget the Tesla Cybertruck, this changes EVERYTHING - z1btvTUWe00\n",
            "F DE FÚTBOL | BARCELONA SC SE QUEDÓ CON EL GRUPO C | ENTREVISTA A ÁNGEL MENA - nzuKb4GUEt4\n",
            "$1,5M Meltwater Champions Chess Tour: FTX Crypto Cup F 1 | J. Gustafsson, R. Kasimjanov, S. Bluhm - M2uAB7s5Zzk\n",
            "F... - qU63F3f02g8\n",
            "F DE FÚTBOL | EMELEC ELIMINADO DE LA SUDAMERICANA - t8fvGuMOz_E\n",
            "OHENE DAVID f!res AGYAKOO, SLIMBASTER &amp; other celebraties | reacted over m.urdered freedom f!ghter - NJsh8fS14W8\n",
            "F-150 Lightning Live Reveal | F-150 | Ford - Yjisj5T0VqE\n",
            "Bitcoin Price Falls Under Critical Levels!!! How F*&#39;t Are We? - zMDPaF9h6nE\n",
            "F DE FÚTBOL | ¿HASTA DÓNDE PODRÁ LLEGAR BARCELONA SC EN LIBERTADORES? - UseP39klK6Q\n",
            "F-35 Demo Team is Live! - thuoX4mGUXE\n"
          ],
          "name": "stdout"
        }
      ]
    },
    {
      "cell_type": "markdown",
      "metadata": {
        "id": "VfhEhbi73KyB"
      },
      "source": [
        "**Main Code**"
      ]
    },
    {
      "cell_type": "code",
      "metadata": {
        "id": "AXOQ4YhIjQD4"
      },
      "source": [
        "\n",
        "def get_video_comments(service, **kwargs):\n",
        "    comments = []\n",
        "    results = service.commentThreads().list(**kwargs).execute()\n",
        "    print(results)\n",
        "    while results:\n",
        "        for item in results['items']:\n",
        "            comment = item['snippet']['topLevelComment']['snippet']['textDisplay']\n",
        "            comments.append(comment)\n",
        " \n",
        "        if 'nextPageToken' in results:\n",
        "            kwargs['pageToken'] = results['nextPageToken']\n",
        "            results = service.commentThreads().list(**kwargs).execute()\n",
        "        else:\n",
        "            break\n",
        " \n",
        "    return comments"
      ],
      "execution_count": null,
      "outputs": []
    },
    {
      "cell_type": "code",
      "metadata": {
        "id": "pEFoR4dZ1SyA"
      },
      "source": [
        "# list2 = [['Pakistan FM invokes antisemitic slur (credit: CNN)','lyTw--JYnSE'],[\"Gravitas Plus: Erdogan's quest for Islamic domination\",'ozzisQ1QPTA'],['German reunification – a short history | DW Documentary','iNAxfWCwDsw']]\n",
        "# list2\n",
        "list2 = [['Galaxy S21 Ultra: Official Introduction Film | Samsung','kYPHTSEU49Y'],['Titanic 3D Re-Release Official Trailer #1 - Leonardo DiCaprio, Kate Winslet Movie (2012) HD','kVrqfYjkTdQ']]"
      ],
      "execution_count": null,
      "outputs": []
    },
    {
      "cell_type": "code",
      "metadata": {
        "id": "bhl3DzGapmZN",
        "colab": {
          "base_uri": "https://localhost:8080/"
        },
        "outputId": "8654e81e-cd6f-47fe-9c5e-175b98108f04"
      },
      "source": [
        "all_comments = []\n",
        "for x in list2:\n",
        "  comments_new=get_video_comments(service, part='snippet', videoId=x[1], textFormat='plainText')\n",
        "  for y in comments_new:\n",
        "    all_comments.append([x[0],y])\n",
        "\n"
      ],
      "execution_count": null,
      "outputs": [
        {
          "output_type": "stream",
          "text": [
            "{'kind': 'youtube#commentThreadListResponse', 'etag': '4hjCzjCUTc0MbU2J08obRK_-QZM', 'nextPageToken': 'QURTSl9pMmlONUxpaG5sUWN4a3h1ZUtzZXdNaldzV3BUS1NaZ2lwM3NIc2pBSXlIUUw1dzRLOEdJdmowYXlHTjRSM01NS0FFRVNyc2d3VQ==', 'pageInfo': {'totalResults': 20, 'resultsPerPage': 20}, 'items': [{'kind': 'youtube#commentThread', 'etag': 'qZDhdTjqOLJaMd-hbYnY3jUUdcA', 'id': 'UgwE-VGGGvP48oKqs9d4AaABAg', 'snippet': {'videoId': 'kYPHTSEU49Y', 'topLevelComment': {'kind': 'youtube#comment', 'etag': 'hVtFoP-eFLJBqAaWSvRRkSeDAl8', 'id': 'UgwE-VGGGvP48oKqs9d4AaABAg', 'snippet': {'videoId': 'kYPHTSEU49Y', 'textDisplay': \"If you don't include earphones and the charger on your phones  I'm not gonna buy anything from you , serious.\", 'textOriginal': \"If you don't include earphones and the charger on your phones  I'm not gonna buy anything from you , serious.\", 'authorDisplayName': 'El El', 'authorProfileImageUrl': 'https://yt3.ggpht.com/ytc/AAUvwngPpTJF4eHb5ZfsejVsSxcDz6iS5G7iozBSzg=s48-c-k-c0x00ffffff-no-rj', 'authorChannelUrl': 'http://www.youtube.com/channel/UCkxD6o2QhGPV3gRwTpVWFqA', 'authorChannelId': {'value': 'UCkxD6o2QhGPV3gRwTpVWFqA'}, 'canRate': True, 'viewerRating': 'none', 'likeCount': 0, 'publishedAt': '2021-05-31T10:45:22Z', 'updatedAt': '2021-05-31T10:45:22Z'}}, 'canReply': True, 'totalReplyCount': 0, 'isPublic': True}}, {'kind': 'youtube#commentThread', 'etag': 'rAoZ0UfX_oJE3rxPwWizowqa6eU', 'id': 'UgwW3gXVixIU-mdxd354AaABAg', 'snippet': {'videoId': 'kYPHTSEU49Y', 'topLevelComment': {'kind': 'youtube#comment', 'etag': 'XJE9wmPWUb_Wk3PhO0Czn0Ucu7M', 'id': 'UgwW3gXVixIU-mdxd354AaABAg', 'snippet': {'videoId': 'kYPHTSEU49Y', 'textDisplay': 'Hi Samsung,\\nCan you please advise on security issues with data stored in Phone with respect to iPhone 12 pro max? What is your security level and how we can assure about security of our data?\\nThank You.', 'textOriginal': 'Hi Samsung,\\nCan you please advise on security issues with data stored in Phone with respect to iPhone 12 pro max? What is your security level and how we can assure about security of our data?\\nThank You.', 'authorDisplayName': 'Bhardwaj Group', 'authorProfileImageUrl': 'https://yt3.ggpht.com/ytc/AAUvwngpt3JL5SgkyNkXNwR97mYe78akBqLIMA5_PPcD=s48-c-k-c0x00ffffff-no-rj', 'authorChannelUrl': 'http://www.youtube.com/channel/UCtyuTG5uiS0U77iD0n6v9KQ', 'authorChannelId': {'value': 'UCtyuTG5uiS0U77iD0n6v9KQ'}, 'canRate': True, 'viewerRating': 'none', 'likeCount': 1, 'publishedAt': '2021-05-30T09:13:37Z', 'updatedAt': '2021-05-30T09:13:37Z'}}, 'canReply': True, 'totalReplyCount': 0, 'isPublic': True}}, {'kind': 'youtube#commentThread', 'etag': 'LwxBrXM4Iqq_59fcNUqxF0vpdHQ', 'id': 'UgzgWcR093-UA4qquUx4AaABAg', 'snippet': {'videoId': 'kYPHTSEU49Y', 'topLevelComment': {'kind': 'youtube#comment', 'etag': 'dEZKjV0w1AmGbb2weOmBSuRom6E', 'id': 'UgzgWcR093-UA4qquUx4AaABAg', 'snippet': {'videoId': 'kYPHTSEU49Y', 'textDisplay': \"I love Samsung but the reason I'm not buy after my note 20 ultra , because after the s21 series comes with out charger and the stuff, so it's useless it's seems Samsung dose the same stupid copy works as apple 🍏\", 'textOriginal': \"I love Samsung but the reason I'm not buy after my note 20 ultra , because after the s21 series comes with out charger and the stuff, so it's useless it's seems Samsung dose the same stupid copy works as apple 🍏\", 'authorDisplayName': 'Mirshad Musni', 'authorProfileImageUrl': 'https://yt3.ggpht.com/ytc/AAUvwniLoH2E8wkAj3cFeYt-_vPh9m3TeIzbEuAU_joj=s48-c-k-c0x00ffffff-no-rj', 'authorChannelUrl': 'http://www.youtube.com/channel/UCg2BNKAyVW19XCguTNHpOsg', 'authorChannelId': {'value': 'UCg2BNKAyVW19XCguTNHpOsg'}, 'canRate': True, 'viewerRating': 'none', 'likeCount': 0, 'publishedAt': '2021-05-30T05:34:07Z', 'updatedAt': '2021-05-30T05:34:07Z'}}, 'canReply': True, 'totalReplyCount': 0, 'isPublic': True}}, {'kind': 'youtube#commentThread', 'etag': 'gEYRryIftu_IkTCcy9IbcBGPW3o', 'id': 'Ugy-4kxen7a-J3LRyyt4AaABAg', 'snippet': {'videoId': 'kYPHTSEU49Y', 'topLevelComment': {'kind': 'youtube#comment', 'etag': '7RhYHNIhztcRu7OGVJdU17XpsWI', 'id': 'Ugy-4kxen7a-J3LRyyt4AaABAg', 'snippet': {'videoId': 'kYPHTSEU49Y', 'textDisplay': 'Next 3 month i will purchase this phone 😚😍', 'textOriginal': 'Next 3 month i will purchase this phone 😚😍', 'authorDisplayName': 'Bhadoriya Gamer', 'authorProfileImageUrl': 'https://yt3.ggpht.com/ytc/AAUvwni3RcMwupZshfogc6ixXeqCse1RUrbvgZ9f81yf=s48-c-k-c0x00ffffff-no-rj', 'authorChannelUrl': 'http://www.youtube.com/channel/UCx51-GYjWG1kwr9smSxVy2g', 'authorChannelId': {'value': 'UCx51-GYjWG1kwr9smSxVy2g'}, 'canRate': True, 'viewerRating': 'none', 'likeCount': 0, 'publishedAt': '2021-05-29T16:46:00Z', 'updatedAt': '2021-05-29T16:46:00Z'}}, 'canReply': True, 'totalReplyCount': 0, 'isPublic': True}}, {'kind': 'youtube#commentThread', 'etag': 'wnod7ht0qDNdL-QWmbEm540Gipo', 'id': 'UgyKwnHndcb9rSysGxx4AaABAg', 'snippet': {'videoId': 'kYPHTSEU49Y', 'topLevelComment': {'kind': 'youtube#comment', 'etag': 'ZSKltYOcs8j2u4Ga2Z9GZricOZk', 'id': 'UgyKwnHndcb9rSysGxx4AaABAg', 'snippet': {'videoId': 'kYPHTSEU49Y', 'textDisplay': \"It's a phone or a camera...?\", 'textOriginal': \"It's a phone or a camera...?\", 'authorDisplayName': 'Thiru Nash', 'authorProfileImageUrl': 'https://yt3.ggpht.com/ytc/AAUvwnj4tEVrMMK5eFXoNHLSaack6c1zQdSwnIhjEWwW=s48-c-k-c0x00ffffff-no-rj', 'authorChannelUrl': 'http://www.youtube.com/channel/UCcZO2h6LWztFuXB7qUcXRbA', 'authorChannelId': {'value': 'UCcZO2h6LWztFuXB7qUcXRbA'}, 'canRate': True, 'viewerRating': 'none', 'likeCount': 0, 'publishedAt': '2021-05-29T04:34:10Z', 'updatedAt': '2021-05-29T04:34:10Z'}}, 'canReply': True, 'totalReplyCount': 0, 'isPublic': True}}, {'kind': 'youtube#commentThread', 'etag': 'gcNE9oD6wAK6kHLk8V_T7SM18IM', 'id': 'Ugyofibt2e-gI-1JDlx4AaABAg', 'snippet': {'videoId': 'kYPHTSEU49Y', 'topLevelComment': {'kind': 'youtube#comment', 'etag': 'Yc9ILAfvaLElwi7msDJc68EU4Gw', 'id': 'Ugyofibt2e-gI-1JDlx4AaABAg', 'snippet': {'videoId': 'kYPHTSEU49Y', 'textDisplay': 'Me watching this with J7 pro 😂😂', 'textOriginal': 'Me watching this with J7 pro 😂😂', 'authorDisplayName': 'FARIS HOLLOW', 'authorProfileImageUrl': 'https://yt3.ggpht.com/ytc/AAUvwng-jKu422B_5MP9whWVK8w3QLRwGKbBoyFJVD9b6w=s48-c-k-c0x00ffffff-no-rj', 'authorChannelUrl': 'http://www.youtube.com/channel/UC5pigVcPoBkezHhj2irjbRA', 'authorChannelId': {'value': 'UC5pigVcPoBkezHhj2irjbRA'}, 'canRate': True, 'viewerRating': 'none', 'likeCount': 0, 'publishedAt': '2021-05-28T09:55:50Z', 'updatedAt': '2021-05-28T09:55:50Z'}}, 'canReply': True, 'totalReplyCount': 0, 'isPublic': True}}, {'kind': 'youtube#commentThread', 'etag': 'G-46BpFpshu3l-ss8w8ZdO-g-Bw', 'id': 'Ugyb3okOKSlVPAhAtG14AaABAg', 'snippet': {'videoId': 'kYPHTSEU49Y', 'topLevelComment': {'kind': 'youtube#comment', 'etag': 'Grs_hK67Q3Eb-xjAkiDdxbt-NYk', 'id': 'Ugyb3okOKSlVPAhAtG14AaABAg', 'snippet': {'videoId': 'kYPHTSEU49Y', 'textDisplay': 'U need to make huge changes in android system unfortunately it’s not as smooth as Ios system and this was the main reason that made me jump from android to iOS platform. Like come on! There’s huge changes! I feel way comfortable with my iPhone when I compare it to android phones in general.', 'textOriginal': 'U need to make huge changes in android system unfortunately it’s not as smooth as Ios system and this was the main reason that made me jump from android to iOS platform. Like come on! There’s huge changes! I feel way comfortable with my iPhone when I compare it to android phones in general.', 'authorDisplayName': 'k. Hajji', 'authorProfileImageUrl': 'https://yt3.ggpht.com/ytc/AAUvwnju0b8scCYyeLmNJ56C5KTNZUayHHMg6vBCg5s=s48-c-k-c0x00ffffff-no-rj', 'authorChannelUrl': 'http://www.youtube.com/channel/UCCYSZB1YVrWkJ-S3ZkPn2xw', 'authorChannelId': {'value': 'UCCYSZB1YVrWkJ-S3ZkPn2xw'}, 'canRate': True, 'viewerRating': 'none', 'likeCount': 0, 'publishedAt': '2021-05-28T06:29:14Z', 'updatedAt': '2021-05-28T06:29:14Z'}}, 'canReply': True, 'totalReplyCount': 2, 'isPublic': True}}, {'kind': 'youtube#commentThread', 'etag': '69F26W8sbS5qHdCrGS_wDX86x6Y', 'id': 'UgzEzDlgRDtMqlI64UJ4AaABAg', 'snippet': {'videoId': 'kYPHTSEU49Y', 'topLevelComment': {'kind': 'youtube#comment', 'etag': 'OjGdNMfvvSuNwbgQX-QFqip0QrI', 'id': 'UgzEzDlgRDtMqlI64UJ4AaABAg', 'snippet': {'videoId': 'kYPHTSEU49Y', 'textDisplay': 'The holistic scorpion incidentally clip because dimple socially communicate like a bright harmony. limping, discreet beet', 'textOriginal': 'The holistic scorpion incidentally clip because dimple socially communicate like a bright harmony. limping, discreet beet', 'authorDisplayName': 'Aron Council', 'authorProfileImageUrl': 'https://yt3.ggpht.com/ytc/AAUvwniOv0x5wgh-isqlMoaiQlwWLCxSXITPJ324lA=s48-c-k-c0x00ffffff-no-rj', 'authorChannelUrl': 'http://www.youtube.com/channel/UC5MmqEhxclRNB_pcIsEgGYA', 'authorChannelId': {'value': 'UC5MmqEhxclRNB_pcIsEgGYA'}, 'canRate': True, 'viewerRating': 'none', 'likeCount': 0, 'publishedAt': '2021-05-27T15:58:10Z', 'updatedAt': '2021-05-27T15:58:10Z'}}, 'canReply': True, 'totalReplyCount': 0, 'isPublic': True}}, {'kind': 'youtube#commentThread', 'etag': 'M5cqYnBfbbKBxfvqk6w4KvTqixE', 'id': 'UgzjLVQzdk9fR4WyHBZ4AaABAg', 'snippet': {'videoId': 'kYPHTSEU49Y', 'topLevelComment': {'kind': 'youtube#comment', 'etag': 'y9eBG2mqiexzE_lsqRbt6FiYeOc', 'id': 'UgzjLVQzdk9fR4WyHBZ4AaABAg', 'snippet': {'videoId': 'kYPHTSEU49Y', 'textDisplay': 'Wow i just purchased this ONE OF THE BEST PHONES (iphone 12 is better tho)', 'textOriginal': 'Wow i just purchased this ONE OF THE BEST PHONES (iphone 12 is better tho)', 'authorDisplayName': 'Gulcan Ayyildiz', 'authorProfileImageUrl': 'https://yt3.ggpht.com/ytc/AAUvwnhG0N_RLA99hgmFHLVRJ0Q1zRN0oBfUhli5vg=s48-c-k-c0x00ffffff-no-rj', 'authorChannelUrl': 'http://www.youtube.com/channel/UCrG8Y8iSwV21F3-MbcwOtDw', 'authorChannelId': {'value': 'UCrG8Y8iSwV21F3-MbcwOtDw'}, 'canRate': True, 'viewerRating': 'none', 'likeCount': 1, 'publishedAt': '2021-05-27T12:23:37Z', 'updatedAt': '2021-05-27T12:23:37Z'}}, 'canReply': True, 'totalReplyCount': 1, 'isPublic': True}}, {'kind': 'youtube#commentThread', 'etag': 'cyZiAk_VZu6yl0aWkTykyQrwJgw', 'id': 'UgzMf26TDJNkSwYMOxV4AaABAg', 'snippet': {'videoId': 'kYPHTSEU49Y', 'topLevelComment': {'kind': 'youtube#comment', 'etag': '_OtJ6vxcbPJSX7DmwkvfbUU5A-k', 'id': 'UgzMf26TDJNkSwYMOxV4AaABAg', 'snippet': {'videoId': 'kYPHTSEU49Y', 'textDisplay': 'Can you guys not have bloatware preinstalled? Or at least have the option to uninstall them?', 'textOriginal': 'Can you guys not have bloatware preinstalled? Or at least have the option to uninstall them?', 'authorDisplayName': 'DecentRecruit', 'authorProfileImageUrl': 'https://yt3.ggpht.com/ytc/AAUvwngW8CVJNtGQTTjS38_ZGmA6ThytLk8vWF-I8NHZ=s48-c-k-c0x00ffffff-no-rj', 'authorChannelUrl': 'http://www.youtube.com/channel/UCDLa0FxfhdBF0Q1bvzjbgrw', 'authorChannelId': {'value': 'UCDLa0FxfhdBF0Q1bvzjbgrw'}, 'canRate': True, 'viewerRating': 'none', 'likeCount': 0, 'publishedAt': '2021-05-26T11:59:26Z', 'updatedAt': '2021-05-26T11:59:26Z'}}, 'canReply': True, 'totalReplyCount': 0, 'isPublic': True}}, {'kind': 'youtube#commentThread', 'etag': 'Czl-GxOsiZ65JnfXqMitImgoUEw', 'id': 'Ugx_ft2Fe466aVsvDjd4AaABAg', 'snippet': {'videoId': 'kYPHTSEU49Y', 'topLevelComment': {'kind': 'youtube#comment', 'etag': 'sYWmPjj7Iq-hB2TpTmrswh_8C18', 'id': 'Ugx_ft2Fe466aVsvDjd4AaABAg', 'snippet': {'videoId': 'kYPHTSEU49Y', 'textDisplay': '\"Battery that outlasts your day\", pity you didn\\'t manage to do that for the S20 FE, the battery is fkn useless in that model and it only came out last year!', 'textOriginal': '\"Battery that outlasts your day\", pity you didn\\'t manage to do that for the S20 FE, the battery is fkn useless in that model and it only came out last year!', 'authorDisplayName': 'D H', 'authorProfileImageUrl': 'https://yt3.ggpht.com/ytc/AAUvwnhrAF2bM5w5HbUAZ9YEDv29OLSmahtEPjBhR6I0=s48-c-k-c0x00ffffff-no-rj', 'authorChannelUrl': 'http://www.youtube.com/channel/UCJd8-Wl5BLjAiKKpBsABguw', 'authorChannelId': {'value': 'UCJd8-Wl5BLjAiKKpBsABguw'}, 'canRate': True, 'viewerRating': 'none', 'likeCount': 0, 'publishedAt': '2021-05-26T10:46:45Z', 'updatedAt': '2021-05-26T10:46:45Z'}}, 'canReply': True, 'totalReplyCount': 0, 'isPublic': True}}, {'kind': 'youtube#commentThread', 'etag': 'niaPqq78zlAVvz289oI4N3vUsyM', 'id': 'Ugz5RkMC50J15JWvDZR4AaABAg', 'snippet': {'videoId': 'kYPHTSEU49Y', 'topLevelComment': {'kind': 'youtube#comment', 'etag': 'JW55tpnEzkTA8x_-YKuIT3NwGkE', 'id': 'Ugz5RkMC50J15JWvDZR4AaABAg', 'snippet': {'videoId': 'kYPHTSEU49Y', 'textDisplay': 'How many s21', 'textOriginal': 'How many s21', 'authorDisplayName': 'Shii Shii', 'authorProfileImageUrl': 'https://yt3.ggpht.com/ytc/AAUvwngOG5M0bZosAztnaYcIK-S3b0U_36ty1_oJsLvGuw=s48-c-k-c0x00ffffff-no-rj', 'authorChannelUrl': 'http://www.youtube.com/channel/UCiomsvf3aWR7pW8dBIPKuGw', 'authorChannelId': {'value': 'UCiomsvf3aWR7pW8dBIPKuGw'}, 'canRate': True, 'viewerRating': 'none', 'likeCount': 0, 'publishedAt': '2021-05-25T12:27:21Z', 'updatedAt': '2021-05-25T12:27:21Z'}}, 'canReply': True, 'totalReplyCount': 0, 'isPublic': True}}, {'kind': 'youtube#commentThread', 'etag': 'qOs_odVftVH_9KmwYJ-RY3mxUzU', 'id': 'UgzJYnjVBAIn-1EVqk94AaABAg', 'snippet': {'videoId': 'kYPHTSEU49Y', 'topLevelComment': {'kind': 'youtube#comment', 'etag': '-p_o7zHzCeF6UoB5pZbGHdrkxGw', 'id': 'UgzJYnjVBAIn-1EVqk94AaABAg', 'snippet': {'videoId': 'kYPHTSEU49Y', 'textDisplay': '👍', 'textOriginal': '👍', 'authorDisplayName': 'Rudy Wijaya', 'authorProfileImageUrl': 'https://yt3.ggpht.com/ytc/AAUvwnjPYxwN6Ok1MTgg1UtzgbvNK8Iqjjn0-ZLiRZK7-w=s48-c-k-c0x00ffffff-no-rj', 'authorChannelUrl': 'http://www.youtube.com/channel/UCEuU8M7hV29CQRNsA3eO86Q', 'authorChannelId': {'value': 'UCEuU8M7hV29CQRNsA3eO86Q'}, 'canRate': True, 'viewerRating': 'none', 'likeCount': 0, 'publishedAt': '2021-05-24T09:39:10Z', 'updatedAt': '2021-05-24T09:39:10Z'}}, 'canReply': True, 'totalReplyCount': 0, 'isPublic': True}}, {'kind': 'youtube#commentThread', 'etag': 'SyiHYshRhtiHcoUX6tRk46qbdQY', 'id': 'UgzCpfautRZ95VMk3up4AaABAg', 'snippet': {'videoId': 'kYPHTSEU49Y', 'topLevelComment': {'kind': 'youtube#comment', 'etag': '9TFOlpfzFty8mCfLDIM3FNFM8f8', 'id': 'UgzCpfautRZ95VMk3up4AaABAg', 'snippet': {'videoId': 'kYPHTSEU49Y', 'textDisplay': 'After Samsung removed the basic things such as microSD and adapter, I removed Samsung from my \"to buy list\" and replaced it with Xperia.. Bye Samsung', 'textOriginal': 'After Samsung removed the basic things such as microSD and adapter, I removed Samsung from my \"to buy list\" and replaced it with Xperia.. Bye Samsung', 'authorDisplayName': 'tsushin555', 'authorProfileImageUrl': 'https://yt3.ggpht.com/ytc/AAUvwnjHtPkja-sjqpPmD5joL1m-DISxleh9SsHLog=s48-c-k-c0x00ffffff-no-rj', 'authorChannelUrl': 'http://www.youtube.com/channel/UCKbkudjyzi6MhyG6xRCLi9w', 'authorChannelId': {'value': 'UCKbkudjyzi6MhyG6xRCLi9w'}, 'canRate': True, 'viewerRating': 'none', 'likeCount': 0, 'publishedAt': '2021-05-24T09:18:56Z', 'updatedAt': '2021-05-24T09:20:32Z'}}, 'canReply': True, 'totalReplyCount': 0, 'isPublic': True}}, {'kind': 'youtube#commentThread', 'etag': 'dpoEpP3FF1PHAhKwlVAe9bNQYH4', 'id': 'UgxD2L27NFMxdh946q54AaABAg', 'snippet': {'videoId': 'kYPHTSEU49Y', 'topLevelComment': {'kind': 'youtube#comment', 'etag': 'FJfjHmoFEwIaFcZN4njd2eF5jCw', 'id': 'UgxD2L27NFMxdh946q54AaABAg', 'snippet': {'videoId': 'kYPHTSEU49Y', 'textDisplay': 'At least samsung let the commentary section on, not like apple', 'textOriginal': 'At least samsung let the commentary section on, not like apple', 'authorDisplayName': 'Nazare Andrei', 'authorProfileImageUrl': 'https://yt3.ggpht.com/ytc/AAUvwnj6mVy3OLC8rr7LqnYsY7_8p0ykAEDRY5h3Nc_Mig=s48-c-k-c0x00ffffff-no-rj', 'authorChannelUrl': 'http://www.youtube.com/channel/UCi5nqGuMt3Z_LDgXZ1wajiw', 'authorChannelId': {'value': 'UCi5nqGuMt3Z_LDgXZ1wajiw'}, 'canRate': True, 'viewerRating': 'none', 'likeCount': 0, 'publishedAt': '2021-05-23T12:59:36Z', 'updatedAt': '2021-05-23T12:59:36Z'}}, 'canReply': True, 'totalReplyCount': 0, 'isPublic': True}}, {'kind': 'youtube#commentThread', 'etag': '5gQW8N_DdYRXEU_qSTv27GgbNvI', 'id': 'UgyKUvm0DW189hQO7fh4AaABAg', 'snippet': {'videoId': 'kYPHTSEU49Y', 'topLevelComment': {'kind': 'youtube#comment', 'etag': 'MT7N70dVJAeP70vnvo49gWz2lV4', 'id': 'UgyKUvm0DW189hQO7fh4AaABAg', 'snippet': {'videoId': 'kYPHTSEU49Y', 'textDisplay': 'Samsung, can you bring back the option to hide the hole punch camera with future software update? Thanks!', 'textOriginal': 'Samsung, can you bring back the option to hide the hole punch camera with future software update? Thanks!', 'authorDisplayName': 'Mahibul Roni', 'authorProfileImageUrl': 'https://yt3.ggpht.com/ytc/AAUvwngdVfmYEnvXMx8BASThZGwms2UQ9BDotP3WByWXslc=s48-c-k-c0x00ffffff-no-rj', 'authorChannelUrl': 'http://www.youtube.com/channel/UCISQWImZnJKADxwGom2MZng', 'authorChannelId': {'value': 'UCISQWImZnJKADxwGom2MZng'}, 'canRate': True, 'viewerRating': 'none', 'likeCount': 0, 'publishedAt': '2021-05-22T23:47:26Z', 'updatedAt': '2021-05-22T23:47:26Z'}}, 'canReply': True, 'totalReplyCount': 0, 'isPublic': True}}, {'kind': 'youtube#commentThread', 'etag': 'sZQdqJ2cqnKuUOeRAGTf8zni6m0', 'id': 'Ugzg-_S07BIIpyikrgR4AaABAg', 'snippet': {'videoId': 'kYPHTSEU49Y', 'topLevelComment': {'kind': 'youtube#comment', 'etag': '8pine8QL63vlDn9IBU_siAr_sQY', 'id': 'Ugzg-_S07BIIpyikrgR4AaABAg', 'snippet': {'videoId': 'kYPHTSEU49Y', 'textDisplay': \"When I saw people saying that it overheats, I didn't think it would be so bad. Seriously, I can't use Microsoft Teams over 20 minutes or it says it's too hot and closes the app...\", 'textOriginal': \"When I saw people saying that it overheats, I didn't think it would be so bad. Seriously, I can't use Microsoft Teams over 20 minutes or it says it's too hot and closes the app...\", 'authorDisplayName': 'Pixels', 'authorProfileImageUrl': 'https://yt3.ggpht.com/ytc/AAUvwnheddCz9Qo8-rrhIo50SBfa4R308Wl5-7BJoQs0=s48-c-k-c0x00ffffff-no-rj', 'authorChannelUrl': 'http://www.youtube.com/channel/UCTPJVwtKviLeejn3lRTh_Pg', 'authorChannelId': {'value': 'UCTPJVwtKviLeejn3lRTh_Pg'}, 'canRate': True, 'viewerRating': 'none', 'likeCount': 2, 'publishedAt': '2021-05-22T09:28:06Z', 'updatedAt': '2021-05-22T09:28:06Z'}}, 'canReply': True, 'totalReplyCount': 0, 'isPublic': True}}, {'kind': 'youtube#commentThread', 'etag': 'B1PD4VrMhYq5Ssikfg4BpGGJir0', 'id': 'UgyJpm-XZaJ1dEIEfqR4AaABAg', 'snippet': {'videoId': 'kYPHTSEU49Y', 'topLevelComment': {'kind': 'youtube#comment', 'etag': 'c4bjTRSBXMvkvdXoYof25CIDjj0', 'id': 'UgyJpm-XZaJ1dEIEfqR4AaABAg', 'snippet': {'videoId': 'kYPHTSEU49Y', 'textDisplay': \"I'm so disappointed that I've spend more than €1K. The phone didnt come with Accessories as usually ( no charger adapter, no headsets). Just phone and cable.\", 'textOriginal': \"I'm so disappointed that I've spend more than €1K. The phone didnt come with Accessories as usually ( no charger adapter, no headsets). Just phone and cable.\", 'authorDisplayName': 'karina weissenrieder', 'authorProfileImageUrl': 'https://yt3.ggpht.com/ytc/AAUvwnio7p-6VJUkx_c-NwTIvhIKrs5bNrgvCcr8f5iY=s48-c-k-c0x00ffffff-no-rj', 'authorChannelUrl': 'http://www.youtube.com/channel/UC5c9hjuohrPsdcebUHAEYvg', 'authorChannelId': {'value': 'UC5c9hjuohrPsdcebUHAEYvg'}, 'canRate': True, 'viewerRating': 'none', 'likeCount': 1, 'publishedAt': '2021-05-21T21:09:25Z', 'updatedAt': '2021-05-21T21:09:25Z'}}, 'canReply': True, 'totalReplyCount': 1, 'isPublic': True}}, {'kind': 'youtube#commentThread', 'etag': 'S6aP2c1yQ0Bx8XV6jSoHnHEo8RU', 'id': 'Ugzw60d6HFgHNAoRVPB4AaABAg', 'snippet': {'videoId': 'kYPHTSEU49Y', 'topLevelComment': {'kind': 'youtube#comment', 'etag': 'Gao_IHhCUc23gC6KWXi5_TfE2-4', 'id': 'Ugzw60d6HFgHNAoRVPB4AaABAg', 'snippet': {'videoId': 'kYPHTSEU49Y', 'textDisplay': 'Koi galti se bi mat lena bhai 2 mahine bhai bi ni huye mujhe liye huye hang ki pbm or side button automatic and are chale gye bas zoom ka feature dikhakr public ko loot rhe hai', 'textOriginal': 'Koi galti se bi mat lena bhai 2 mahine bhai bi ni huye mujhe liye huye hang ki pbm or side button automatic and are chale gye bas zoom ka feature dikhakr public ko loot rhe hai', 'authorDisplayName': 'Harsh Gaur', 'authorProfileImageUrl': 'https://yt3.ggpht.com/a/default-user=s48', 'authorChannelUrl': 'http://www.youtube.com/channel/UCwZwPfl040XAQWuMPKk9w7A', 'authorChannelId': {'value': 'UCwZwPfl040XAQWuMPKk9w7A'}, 'canRate': True, 'viewerRating': 'none', 'likeCount': 0, 'publishedAt': '2021-05-21T19:21:39Z', 'updatedAt': '2021-05-21T19:21:39Z'}}, 'canReply': True, 'totalReplyCount': 0, 'isPublic': True}}, {'kind': 'youtube#commentThread', 'etag': '5ytnpLKiKfqm9DdaQAXHlfBjloM', 'id': 'UgzHzA8HnJ4MWb1qBal4AaABAg', 'snippet': {'videoId': 'kYPHTSEU49Y', 'topLevelComment': {'kind': 'youtube#comment', 'etag': '4FzWQvvxOofhA-OqywFq9-iYlFk', 'id': 'UgzHzA8HnJ4MWb1qBal4AaABAg', 'snippet': {'videoId': 'kYPHTSEU49Y', 'textDisplay': 'Phone to le lu agar sare comment krne wale mere ek video dekh le 😂', 'textOriginal': 'Phone to le lu agar sare comment krne wale mere ek video dekh le 😂', 'authorDisplayName': 'Pradeepurohit', 'authorProfileImageUrl': 'https://yt3.ggpht.com/ytc/AAUvwni5gdCE01WJYqQBHAyT0dY688EHVEIzJnM01vz7Ug=s48-c-k-c0x00ffffff-no-rj', 'authorChannelUrl': 'http://www.youtube.com/channel/UCd6WXJXNNUoWv1JINU8Dcqg', 'authorChannelId': {'value': 'UCd6WXJXNNUoWv1JINU8Dcqg'}, 'canRate': True, 'viewerRating': 'none', 'likeCount': 0, 'publishedAt': '2021-05-21T06:19:36Z', 'updatedAt': '2021-05-21T06:19:36Z'}}, 'canReply': True, 'totalReplyCount': 0, 'isPublic': True}}]}\n",
            "{'kind': 'youtube#commentThreadListResponse', 'etag': 'J4t-fQDrfL5umjHbcgeLkCV9YwA', 'nextPageToken': 'QURTSl9pM3ZPS0JjaENyNTJRNll3eGpQc2pyeUJVWWxieFFINndiel83MjBpTG1IYkxhZmNIRjVqa09qUWwyaWhRanFTYjI2eF9pMklvdw==', 'pageInfo': {'totalResults': 20, 'resultsPerPage': 20}, 'items': [{'kind': 'youtube#commentThread', 'etag': 'fWNhHqc1HY9htn8FK3qqv9qD_MQ', 'id': 'Ugz-gsa-VxLW8QkPx9t4AaABAg', 'snippet': {'videoId': 'kVrqfYjkTdQ', 'topLevelComment': {'kind': 'youtube#comment', 'etag': 'kZKJD1Ez9W4qyVk8M50gYc9bSKw', 'id': 'Ugz-gsa-VxLW8QkPx9t4AaABAg', 'snippet': {'videoId': 'kVrqfYjkTdQ', 'textDisplay': 'I was finally able to watch the movie in theatres and I still regret that I didn’t go.', 'textOriginal': 'I was finally able to watch the movie in theatres and I still regret that I didn’t go.', 'authorDisplayName': 'Jalen Scott', 'authorProfileImageUrl': 'https://yt3.ggpht.com/ytc/AAUvwngV8yLa-fXP4ReOHjjU9SOHbKla1a5bXTuTcjqD=s48-c-k-c0x00ffffff-no-rj', 'authorChannelUrl': 'http://www.youtube.com/channel/UCZRKmNU5kY8spunKwcKDt_g', 'authorChannelId': {'value': 'UCZRKmNU5kY8spunKwcKDt_g'}, 'canRate': True, 'viewerRating': 'none', 'likeCount': 0, 'publishedAt': '2021-05-30T18:24:21Z', 'updatedAt': '2021-05-30T18:24:21Z'}}, 'canReply': True, 'totalReplyCount': 0, 'isPublic': True}}, {'kind': 'youtube#commentThread', 'etag': '0-MZiRpgQg2IgNxMsGO-x6VNqRY', 'id': 'Ugyvct74-EGjdiC17RB4AaABAg', 'snippet': {'videoId': 'kVrqfYjkTdQ', 'topLevelComment': {'kind': 'youtube#comment', 'etag': 'FdKdwhEy0i93pjMDyf5YjLF8lgI', 'id': 'Ugyvct74-EGjdiC17RB4AaABAg', 'snippet': {'videoId': 'kVrqfYjkTdQ', 'textDisplay': 'We all know they all looked stupid behind the scenes lol', 'textOriginal': 'We all know they all looked stupid behind the scenes lol', 'authorDisplayName': 'フレイヷ', 'authorProfileImageUrl': 'https://yt3.ggpht.com/TykXvq9PfzpN3F1yNcnNEvNrnb5Zubfcxh04zaO3iKHKx6xHpcMwtmu99wwVfulIz5O1KxzNWQ=s48-c-k-c0x00ffffff-no-rj', 'authorChannelUrl': 'http://www.youtube.com/channel/UCIkFBuOXy8xjsDkSakP-8Lw', 'authorChannelId': {'value': 'UCIkFBuOXy8xjsDkSakP-8Lw'}, 'canRate': True, 'viewerRating': 'none', 'likeCount': 1, 'publishedAt': '2021-05-30T14:53:20Z', 'updatedAt': '2021-05-30T14:53:20Z'}}, 'canReply': True, 'totalReplyCount': 0, 'isPublic': True}}, {'kind': 'youtube#commentThread', 'etag': 'SMD_aLqoDiLjfSmj2NWjhlGq1as', 'id': 'UgyAa1leiQxp63DjUgp4AaABAg', 'snippet': {'videoId': 'kVrqfYjkTdQ', 'topLevelComment': {'kind': 'youtube#comment', 'etag': 'IbLdK5wnjWXiSEj6dW_82BsojUs', 'id': 'UgyAa1leiQxp63DjUgp4AaABAg', 'snippet': {'videoId': 'kVrqfYjkTdQ', 'textDisplay': 'Dis Is probb The most saddest movie I have ever seen :<', 'textOriginal': 'Dis Is probb The most saddest movie I have ever seen :<', 'authorDisplayName': 'Kamila Delgado', 'authorProfileImageUrl': 'https://yt3.ggpht.com/ytc/AAUvwnjvGvt4dXUk2k6UuRM3zrIKa7cOuI8o7XM2oZ5E=s48-c-k-c0x00ffffff-no-rj', 'authorChannelUrl': 'http://www.youtube.com/channel/UCwmblkdfVgTMk_w6oQ4iNmA', 'authorChannelId': {'value': 'UCwmblkdfVgTMk_w6oQ4iNmA'}, 'canRate': True, 'viewerRating': 'none', 'likeCount': 0, 'publishedAt': '2021-05-24T17:39:51Z', 'updatedAt': '2021-05-24T17:39:51Z'}}, 'canReply': True, 'totalReplyCount': 0, 'isPublic': True}}, {'kind': 'youtube#commentThread', 'etag': 'fmTtvV0IUPFtTXGcQl5UtUlsHdg', 'id': 'UgxvknG_0AvMqmQkXRV4AaABAg', 'snippet': {'videoId': 'kVrqfYjkTdQ', 'topLevelComment': {'kind': 'youtube#comment', 'etag': 'ZTxWiVbCm2pFdx1M41oB49qfh8k', 'id': 'UgxvknG_0AvMqmQkXRV4AaABAg', 'snippet': {'videoId': 'kVrqfYjkTdQ', 'textDisplay': '800crore budget film in 1997', 'textOriginal': '800crore budget film in 1997', 'authorDisplayName': \"KANNADA FILM'S\", 'authorProfileImageUrl': 'https://yt3.ggpht.com/ytc/AAUvwnjXdsC4rNqgwTcvgny1JDdnoGVztyV_uegTpQ=s48-c-k-c0x00ffffff-no-rj', 'authorChannelUrl': 'http://www.youtube.com/channel/UC6BW7SbhL_Ahe_zUJzZ2I4w', 'authorChannelId': {'value': 'UC6BW7SbhL_Ahe_zUJzZ2I4w'}, 'canRate': True, 'viewerRating': 'none', 'likeCount': 0, 'publishedAt': '2021-05-24T03:55:37Z', 'updatedAt': '2021-05-24T03:55:37Z'}}, 'canReply': True, 'totalReplyCount': 0, 'isPublic': True}}, {'kind': 'youtube#commentThread', 'etag': '2tIvlsOZpi42l6rzOJzZFYkgWPM', 'id': 'UgzMvM3-K0oNwEvUDXh4AaABAg', 'snippet': {'videoId': 'kVrqfYjkTdQ', 'topLevelComment': {'kind': 'youtube#comment', 'etag': '73UkDwBcbKwlqxmraTF-3ddFQyI', 'id': 'UgzMvM3-K0oNwEvUDXh4AaABAg', 'snippet': {'videoId': 'kVrqfYjkTdQ', 'textDisplay': 'Didnt realize that this movie is 9 years ago... I always feel that Leo and Rose is still young and their heartbreaking love story...😭', 'textOriginal': 'Didnt realize that this movie is 9 years ago... I always feel that Leo and Rose is still young and their heartbreaking love story...😭', 'authorDisplayName': 'Tarum Ugek', 'authorProfileImageUrl': 'https://yt3.ggpht.com/ytc/AAUvwnhmNGGerlAcxBSgLvLdfCMCkSVfnmKYHVljhA=s48-c-k-c0x00ffffff-no-rj', 'authorChannelUrl': 'http://www.youtube.com/channel/UCeVeBmKg46t1IKnMTWc5ncg', 'authorChannelId': {'value': 'UCeVeBmKg46t1IKnMTWc5ncg'}, 'canRate': True, 'viewerRating': 'none', 'likeCount': 1, 'publishedAt': '2021-05-21T04:23:32Z', 'updatedAt': '2021-05-21T04:23:32Z'}}, 'canReply': True, 'totalReplyCount': 3, 'isPublic': True}}, {'kind': 'youtube#commentThread', 'etag': 'Hgwii6cOFTebhtHgt-_2F0jY3dk', 'id': 'UgwrE52jDFr6aGP-zTh4AaABAg', 'snippet': {'videoId': 'kVrqfYjkTdQ', 'topLevelComment': {'kind': 'youtube#comment', 'etag': '3Q_9YGLEjj0AnynP6qUiFOWRVAY', 'id': 'UgwrE52jDFr6aGP-zTh4AaABAg', 'snippet': {'videoId': 'kVrqfYjkTdQ', 'textDisplay': 'the best 🖤', 'textOriginal': 'the best 🖤', 'authorDisplayName': 'Muhamed Abdelkhalek', 'authorProfileImageUrl': 'https://yt3.ggpht.com/ytc/AAUvwniTtemoBol1bTq1GugLeldESfWgbii9jfPCMkLz=s48-c-k-c0x00ffffff-no-rj', 'authorChannelUrl': 'http://www.youtube.com/channel/UCFW2Fu-IV-3zROmIx8lCSEQ', 'authorChannelId': {'value': 'UCFW2Fu-IV-3zROmIx8lCSEQ'}, 'canRate': True, 'viewerRating': 'none', 'likeCount': 1, 'publishedAt': '2021-05-20T00:04:53Z', 'updatedAt': '2021-05-20T00:04:53Z'}}, 'canReply': True, 'totalReplyCount': 0, 'isPublic': True}}, {'kind': 'youtube#commentThread', 'etag': 'k-NoCXzZZJJ16M4o8V1NVb3wCt0', 'id': 'Ugx4w1mWdSg0FOxxg-J4AaABAg', 'snippet': {'videoId': 'kVrqfYjkTdQ', 'topLevelComment': {'kind': 'youtube#comment', 'etag': 'gZia4eOtq8QWL5QOnAGty45ZWAY', 'id': 'Ugx4w1mWdSg0FOxxg-J4AaABAg', 'snippet': {'videoId': 'kVrqfYjkTdQ', 'textDisplay': 'Titanic ør interstellar???', 'textOriginal': 'Titanic ør interstellar???', 'authorDisplayName': 'natarajan chandrasekaran', 'authorProfileImageUrl': 'https://yt3.ggpht.com/ytc/AAUvwniMe-Y0CxDZRfgFHRR9hG2yZuKnOC2mih9HhQ=s48-c-k-c0x00ffffff-no-rj', 'authorChannelUrl': 'http://www.youtube.com/channel/UC5oK9DZvjpR1wScVBi_q-fA', 'authorChannelId': {'value': 'UC5oK9DZvjpR1wScVBi_q-fA'}, 'canRate': True, 'viewerRating': 'none', 'likeCount': 1, 'publishedAt': '2021-05-15T06:14:46Z', 'updatedAt': '2021-05-15T06:14:46Z'}}, 'canReply': True, 'totalReplyCount': 1, 'isPublic': True}}, {'kind': 'youtube#commentThread', 'etag': 'hsV-PSRrv5b2HG7FeWS2EPnVjz0', 'id': 'Ugwg2I4IAVApfbXxv454AaABAg', 'snippet': {'videoId': 'kVrqfYjkTdQ', 'topLevelComment': {'kind': 'youtube#comment', 'etag': '4waIBfJaixeDkn7Oaj3sFozv1Bc', 'id': 'Ugwg2I4IAVApfbXxv454AaABAg', 'snippet': {'videoId': 'kVrqfYjkTdQ', 'textDisplay': 'why does this trailer make me so emotional.CELINE DION', 'textOriginal': 'why does this trailer make me so emotional.CELINE DION', 'authorDisplayName': 'cynthia wynn', 'authorProfileImageUrl': 'https://yt3.ggpht.com/ytc/AAUvwniOt6wCBQPQfLgXpZGGnvm0YWSfMDxT21hs2TyQ=s48-c-k-c0x00ffffff-no-rj', 'authorChannelUrl': 'http://www.youtube.com/channel/UCkMtGX43ChWPQ2-M_FgNLrw', 'authorChannelId': {'value': 'UCkMtGX43ChWPQ2-M_FgNLrw'}, 'canRate': True, 'viewerRating': 'none', 'likeCount': 0, 'publishedAt': '2021-05-12T21:58:56Z', 'updatedAt': '2021-05-12T21:58:56Z'}}, 'canReply': True, 'totalReplyCount': 0, 'isPublic': True}}, {'kind': 'youtube#commentThread', 'etag': 'dryqiqZx1uySzhJDo8BOqv3OR7g', 'id': 'UgxQTpUPuB-8F7CwOBR4AaABAg', 'snippet': {'videoId': 'kVrqfYjkTdQ', 'topLevelComment': {'kind': 'youtube#comment', 'etag': 'AGtPB4NT19z3NaIPVtSvY2Ep1K0', 'id': 'UgxQTpUPuB-8F7CwOBR4AaABAg', 'snippet': {'videoId': 'kVrqfYjkTdQ', 'textDisplay': 'Rose wanted to die\\nJack wanted to live\\nJack died for Rose\\nRose lived for Jack', 'textOriginal': 'Rose wanted to die\\nJack wanted to live\\nJack died for Rose\\nRose lived for Jack', 'authorDisplayName': 'IngloriusFame76', 'authorProfileImageUrl': 'https://yt3.ggpht.com/ytc/AAUvwniaBJ-JMSf8uGJJPmw6e_xN6MIp3KjV04vhRRkW=s48-c-k-c0x00ffffff-no-rj', 'authorChannelUrl': 'http://www.youtube.com/channel/UCrrf63GBtO5zAg4QJ83UQEA', 'authorChannelId': {'value': 'UCrrf63GBtO5zAg4QJ83UQEA'}, 'canRate': True, 'viewerRating': 'none', 'likeCount': 1, 'publishedAt': '2021-05-12T19:33:43Z', 'updatedAt': '2021-05-12T19:33:43Z'}}, 'canReply': True, 'totalReplyCount': 0, 'isPublic': True}}, {'kind': 'youtube#commentThread', 'etag': 'RGpXU4g8ju7KYoA1H9w-8lL_tVc', 'id': 'UgxW1htSEk7vjepoQAB4AaABAg', 'snippet': {'videoId': 'kVrqfYjkTdQ', 'topLevelComment': {'kind': 'youtube#comment', 'etag': '_S9HDZ6aA0yatP94-8FresRJrao', 'id': 'UgxW1htSEk7vjepoQAB4AaABAg', 'snippet': {'videoId': 'kVrqfYjkTdQ', 'textDisplay': 'I remember seeing it in the theater when it rereleased to 3D. It was amazing to get the opportunity! 😊', 'textOriginal': 'I remember seeing it in the theater when it rereleased to 3D. It was amazing to get the opportunity! 😊', 'authorDisplayName': 'Louis Scarantino', 'authorProfileImageUrl': 'https://yt3.ggpht.com/ytc/AAUvwnjfC1e150EcFxO71L7SjX60YRHI5vc9zCtBcTF52Q=s48-c-k-c0x00ffffff-no-rj', 'authorChannelUrl': 'http://www.youtube.com/channel/UCO6Bmcfx-OXWnQmxjaX1I6A', 'authorChannelId': {'value': 'UCO6Bmcfx-OXWnQmxjaX1I6A'}, 'canRate': True, 'viewerRating': 'none', 'likeCount': 0, 'publishedAt': '2021-05-11T23:33:52Z', 'updatedAt': '2021-05-11T23:33:52Z'}}, 'canReply': True, 'totalReplyCount': 0, 'isPublic': True}}, {'kind': 'youtube#commentThread', 'etag': 'OcROoDQ5DoxqravJorZny9YUl7s', 'id': 'Ugxx3Evxnb_fuI7pInl4AaABAg', 'snippet': {'videoId': 'kVrqfYjkTdQ', 'topLevelComment': {'kind': 'youtube#comment', 'etag': 'mtBych94Epe9FMVEdrYQ5fwdVEo', 'id': 'Ugxx3Evxnb_fuI7pInl4AaABAg', 'snippet': {'videoId': 'kVrqfYjkTdQ', 'textDisplay': 'it will always be the most beautiful movie for me🥺', 'textOriginal': 'it will always be the most beautiful movie for me🥺', 'authorDisplayName': 'Jeimy González', 'authorProfileImageUrl': 'https://yt3.ggpht.com/ytc/AAUvwnhBuJhnA7IT9fUnS7o4WjQv-5PM1_CaMLXz2Ylg0g=s48-c-k-c0x00ffffff-no-rj', 'authorChannelUrl': 'http://www.youtube.com/channel/UCWlZmM6-Wq3BBEv6cN_VV4A', 'authorChannelId': {'value': 'UCWlZmM6-Wq3BBEv6cN_VV4A'}, 'canRate': True, 'viewerRating': 'none', 'likeCount': 0, 'publishedAt': '2021-05-11T15:56:50Z', 'updatedAt': '2021-05-11T15:56:50Z'}}, 'canReply': True, 'totalReplyCount': 0, 'isPublic': True}}, {'kind': 'youtube#commentThread', 'etag': 'jZLSfBpcJHJlv0JtNIG60c9anbQ', 'id': 'UgxSGxTFlumP9-jLc_R4AaABAg', 'snippet': {'videoId': 'kVrqfYjkTdQ', 'topLevelComment': {'kind': 'youtube#comment', 'etag': '521uSkAq_dOtVKzKEWd7sSXigZQ', 'id': 'UgxSGxTFlumP9-jLc_R4AaABAg', 'snippet': {'videoId': 'kVrqfYjkTdQ', 'textDisplay': 'Can anybody plz tell be about this ship and what happened to it and if the ship sinked so what happed to the people on it? And did anyone survive ?', 'textOriginal': 'Can anybody plz tell be about this ship and what happened to it and if the ship sinked so what happed to the people on it? And did anyone survive ?', 'authorDisplayName': 'Ishi Bajpai', 'authorProfileImageUrl': 'https://yt3.ggpht.com/ytc/AAUvwnildeb-gDxCjy6oZPXUC_6E-6aesgN6Yr-WgrnB=s48-c-k-c0x00ffffff-no-rj', 'authorChannelUrl': 'http://www.youtube.com/channel/UCL0hHCUlhW3OnCEAEut7lqw', 'authorChannelId': {'value': 'UCL0hHCUlhW3OnCEAEut7lqw'}, 'canRate': True, 'viewerRating': 'none', 'likeCount': 0, 'publishedAt': '2021-05-11T13:27:16Z', 'updatedAt': '2021-05-11T13:27:16Z'}}, 'canReply': True, 'totalReplyCount': 0, 'isPublic': True}}, {'kind': 'youtube#commentThread', 'etag': 'dQFOKzVdfs2FSx-YvOZfdh88Jwo', 'id': 'UgzleVsc7AlqmR3Cuyp4AaABAg', 'snippet': {'videoId': 'kVrqfYjkTdQ', 'topLevelComment': {'kind': 'youtube#comment', 'etag': 'EaVNWSl6KeIk3wKphlxpGWX1tio', 'id': 'UgzleVsc7AlqmR3Cuyp4AaABAg', 'snippet': {'videoId': 'kVrqfYjkTdQ', 'textDisplay': 'I just here bc were doing a roleplay video on roblox titanic sos', 'textOriginal': 'I just here bc were doing a roleplay video on roblox titanic sos', 'authorDisplayName': 'Kylle Gutierrez', 'authorProfileImageUrl': 'https://yt3.ggpht.com/ytc/AAUvwnjbu6ch_C15rAS3uJdNYZ-cvoM0vcMz6BzVygk-=s48-c-k-c0x00ffffff-no-rj', 'authorChannelUrl': 'http://www.youtube.com/channel/UCAchwOBAGx2PYBRqJPTXpHQ', 'authorChannelId': {'value': 'UCAchwOBAGx2PYBRqJPTXpHQ'}, 'canRate': True, 'viewerRating': 'none', 'likeCount': 0, 'publishedAt': '2021-05-10T14:40:09Z', 'updatedAt': '2021-05-10T14:40:09Z'}}, 'canReply': True, 'totalReplyCount': 0, 'isPublic': True}}, {'kind': 'youtube#commentThread', 'etag': '9QhifbmV3jGr6Z6YGT3Sxki-0As', 'id': 'UgzQeXGpZ-fgMEcaNCZ4AaABAg', 'snippet': {'videoId': 'kVrqfYjkTdQ', 'topLevelComment': {'kind': 'youtube#comment', 'etag': 'eBpPQgRnjk6U88lGrEjNwdKl274', 'id': 'UgzQeXGpZ-fgMEcaNCZ4AaABAg', 'snippet': {'videoId': 'kVrqfYjkTdQ', 'textDisplay': 'Titanic world best film ilove still this film', 'textOriginal': 'Titanic world best film ilove still this film', 'authorDisplayName': 'kartik yadav', 'authorProfileImageUrl': 'https://yt3.ggpht.com/ytc/AAUvwngKG9TRsRXLMq_BR-qDVZht79NK3Ov-_a_KdTqHpQ=s48-c-k-c0x00ffffff-no-rj', 'authorChannelUrl': 'http://www.youtube.com/channel/UCzzBTn_-GTCaiSwNXqG0eUw', 'authorChannelId': {'value': 'UCzzBTn_-GTCaiSwNXqG0eUw'}, 'canRate': True, 'viewerRating': 'none', 'likeCount': 1, 'publishedAt': '2021-05-10T04:50:41Z', 'updatedAt': '2021-05-10T04:50:41Z'}}, 'canReply': True, 'totalReplyCount': 0, 'isPublic': True}}, {'kind': 'youtube#commentThread', 'etag': '1wAuOLMCOO-VxinCd5i09jzYzos', 'id': 'UgyGVR7hRcHEB3R2SG94AaABAg', 'snippet': {'videoId': 'kVrqfYjkTdQ', 'topLevelComment': {'kind': 'youtube#comment', 'etag': 'QxNohTFv5DdOQ0ym-6zUNLnIWDA', 'id': 'UgyGVR7hRcHEB3R2SG94AaABAg', 'snippet': {'videoId': 'kVrqfYjkTdQ', 'textDisplay': \"0:00 can't believe this movie was rated !\", 'textOriginal': \"0:00 can't believe this movie was rated !\", 'authorDisplayName': 'Noopur Tiwari', 'authorProfileImageUrl': 'https://yt3.ggpht.com/ytc/AAUvwnhdV3FpEot_1AIUlvRY7waJBAtqrY5tkNKNkWRo=s48-c-k-c0x00ffffff-no-rj', 'authorChannelUrl': 'http://www.youtube.com/channel/UCwmxeOjL-9kCkM89Ul5c6hw', 'authorChannelId': {'value': 'UCwmxeOjL-9kCkM89Ul5c6hw'}, 'canRate': True, 'viewerRating': 'none', 'likeCount': 0, 'publishedAt': '2021-05-09T04:40:18Z', 'updatedAt': '2021-05-09T04:40:18Z'}}, 'canReply': True, 'totalReplyCount': 0, 'isPublic': True}}, {'kind': 'youtube#commentThread', 'etag': 'c4lEKNJ9jQDGraWf0Yx8--XEIxc', 'id': 'Ugy2FrxQBF0TO_VNhJ54AaABAg', 'snippet': {'videoId': 'kVrqfYjkTdQ', 'topLevelComment': {'kind': 'youtube#comment', 'etag': 'GDN94qeagyCde67Ln08xmz1wIgY', 'id': 'Ugy2FrxQBF0TO_VNhJ54AaABAg', 'snippet': {'videoId': 'kVrqfYjkTdQ', 'textDisplay': 'It’s is just me who else fell sorry the old couple die in their room water', 'textOriginal': 'It’s is just me who else fell sorry the old couple die in their room water', 'authorDisplayName': 'It’skaylee', 'authorProfileImageUrl': 'https://yt3.ggpht.com/NF1cPgLmtJL9aghmrvzoH4k2I2Sz6kEp_MPhi261VNfdsEnP0RHUSlOHMAIW4dVlCtN1fsUj=s48-c-k-c0x00ffffff-no-rj', 'authorChannelUrl': 'http://www.youtube.com/channel/UC4BZ2EQLdnZZ3RN7F5hOaVQ', 'authorChannelId': {'value': 'UC4BZ2EQLdnZZ3RN7F5hOaVQ'}, 'canRate': True, 'viewerRating': 'none', 'likeCount': 0, 'publishedAt': '2021-05-08T21:56:17Z', 'updatedAt': '2021-05-08T21:56:17Z'}}, 'canReply': True, 'totalReplyCount': 0, 'isPublic': True}}, {'kind': 'youtube#commentThread', 'etag': 'CfbjFr1mTdBB9EjM6PGRDUTstWw', 'id': 'Ugzg28f3Y5wECDRGhAN4AaABAg', 'snippet': {'videoId': 'kVrqfYjkTdQ', 'topLevelComment': {'kind': 'youtube#comment', 'etag': 'meJu4EFJtXeBSxc688pVY2RrBq4', 'id': 'Ugzg28f3Y5wECDRGhAN4AaABAg', 'snippet': {'videoId': 'kVrqfYjkTdQ', 'textDisplay': '🏆', 'textOriginal': '🏆', 'authorDisplayName': 'faros', 'authorProfileImageUrl': 'https://yt3.ggpht.com/ytc/AAUvwni1GA2ExGmZIX-PxYMvx_9p5rln9i8HT2HBYBLk=s48-c-k-c0x00ffffff-no-rj', 'authorChannelUrl': 'http://www.youtube.com/channel/UCrZFCDhDmSSjxC59RDqmUAg', 'authorChannelId': {'value': 'UCrZFCDhDmSSjxC59RDqmUAg'}, 'canRate': True, 'viewerRating': 'none', 'likeCount': 0, 'publishedAt': '2021-05-08T13:20:19Z', 'updatedAt': '2021-05-08T13:20:19Z'}}, 'canReply': True, 'totalReplyCount': 0, 'isPublic': True}}, {'kind': 'youtube#commentThread', 'etag': '1bzoKaI78yZkgLQYuvjG4zvsZiY', 'id': 'UgygM4jAb4E9LqaKumR4AaABAg', 'snippet': {'videoId': 'kVrqfYjkTdQ', 'topLevelComment': {'kind': 'youtube#comment', 'etag': 'tyBd2VAxwIDLeE74KLnX3VM8AEs', 'id': 'UgygM4jAb4E9LqaKumR4AaABAg', 'snippet': {'videoId': 'kVrqfYjkTdQ', 'textDisplay': 'Who is watching this during 2021 pandemic? God bless us..', 'textOriginal': 'Who is watching this during 2021 pandemic? God bless us..', 'authorDisplayName': 'Deepti Sagar', 'authorProfileImageUrl': 'https://yt3.ggpht.com/ytc/AAUvwniQMJZ5rMawACBeyD3dlKebWWqJKAC2pV_PLw=s48-c-k-c0x00ffffff-no-rj', 'authorChannelUrl': 'http://www.youtube.com/channel/UCLo17-9KnpJ8I2YmNVhOqeg', 'authorChannelId': {'value': 'UCLo17-9KnpJ8I2YmNVhOqeg'}, 'canRate': True, 'viewerRating': 'none', 'likeCount': 0, 'publishedAt': '2021-05-08T09:43:39Z', 'updatedAt': '2021-05-08T09:43:39Z'}}, 'canReply': True, 'totalReplyCount': 0, 'isPublic': True}}, {'kind': 'youtube#commentThread', 'etag': 'xquXMNA7LISd2MJ1X7wQi-Djbsw', 'id': 'UgwQZEVKbTTl58BOFJJ4AaABAg', 'snippet': {'videoId': 'kVrqfYjkTdQ', 'topLevelComment': {'kind': 'youtube#comment', 'etag': '4HBvihc8tEiZ4qA0nyu9FWm13KI', 'id': 'UgwQZEVKbTTl58BOFJJ4AaABAg', 'snippet': {'videoId': 'kVrqfYjkTdQ', 'textDisplay': '“Winning that ticket, Rose, was the best thing that ever happened to me…it brought me to you. And I’m thankful for that, Rose. I’m thankful\" \\n\\nI\\'m not crying, we are :(', 'textOriginal': '“Winning that ticket, Rose, was the best thing that ever happened to me…it brought me to you. And I’m thankful for that, Rose. I’m thankful\" \\n\\nI\\'m not crying, we are :(', 'authorDisplayName': 'Kent Carlo Jimunzala', 'authorProfileImageUrl': 'https://yt3.ggpht.com/ytc/AAUvwnipJgVKOlAGWH-7zCUbEPi87RICTkW50U0Pj7kNTA=s48-c-k-c0x00ffffff-no-rj', 'authorChannelUrl': 'http://www.youtube.com/channel/UCFZUB8UBOAzWk56Y_p_qK4Q', 'authorChannelId': {'value': 'UCFZUB8UBOAzWk56Y_p_qK4Q'}, 'canRate': True, 'viewerRating': 'none', 'likeCount': 1, 'publishedAt': '2021-05-06T16:28:57Z', 'updatedAt': '2021-05-06T16:28:57Z'}}, 'canReply': True, 'totalReplyCount': 0, 'isPublic': True}}, {'kind': 'youtube#commentThread', 'etag': 'yNzW8_LemHztg-5Z5ZJCuXgMTdI', 'id': 'Ugx2Jv8txxlE0wsNklt4AaABAg', 'snippet': {'videoId': 'kVrqfYjkTdQ', 'topLevelComment': {'kind': 'youtube#comment', 'etag': 'xfjhfKBmiYRhqsMCQ6F2RJQdib8', 'id': 'Ugx2Jv8txxlE0wsNklt4AaABAg', 'snippet': {'videoId': 'kVrqfYjkTdQ', 'textDisplay': 'whats that big boat that sank named?', 'textOriginal': 'whats that big boat that sank named?', 'authorDisplayName': 'bigfoothunter', 'authorProfileImageUrl': 'https://yt3.ggpht.com/ytc/AAUvwniYJqOoA4wj0-xDFUui3gXEz8dIQN1ApSgcuFeQ=s48-c-k-c0x00ffffff-no-rj', 'authorChannelUrl': 'http://www.youtube.com/channel/UCr6mJyFKLDLwKBF4uwroxtw', 'authorChannelId': {'value': 'UCr6mJyFKLDLwKBF4uwroxtw'}, 'canRate': True, 'viewerRating': 'none', 'likeCount': 0, 'publishedAt': '2021-05-06T14:06:31Z', 'updatedAt': '2021-05-06T14:06:31Z'}}, 'canReply': True, 'totalReplyCount': 1, 'isPublic': True}}]}\n"
          ],
          "name": "stdout"
        }
      ]
    },
    {
      "cell_type": "code",
      "metadata": {
        "colab": {
          "base_uri": "https://localhost:8080/"
        },
        "id": "uns_6vtDVnud",
        "outputId": "b9820728-55f4-4b26-f71a-418d1db7ffc8"
      },
      "source": [
        "len(all_comments)"
      ],
      "execution_count": null,
      "outputs": [
        {
          "output_type": "execute_result",
          "data": {
            "text/plain": [
              "6061"
            ]
          },
          "metadata": {
            "tags": []
          },
          "execution_count": 45
        }
      ]
    },
    {
      "cell_type": "code",
      "metadata": {
        "colab": {
          "base_uri": "https://localhost:8080/"
        },
        "id": "FNqCOMGCkloL",
        "outputId": "ec64c0bc-30e0-4954-d60e-c8aa2b6830d8"
      },
      "source": [
        "len(all_comments)"
      ],
      "execution_count": null,
      "outputs": [
        {
          "output_type": "execute_result",
          "data": {
            "text/plain": [
              "6061"
            ]
          },
          "metadata": {
            "tags": []
          },
          "execution_count": 47
        }
      ]
    },
    {
      "cell_type": "code",
      "metadata": {
        "id": "e4nlABSAUIQe"
      },
      "source": [
        "Title=[x[0] for x in all_comments]\n",
        "Comments=[x[1] for x in all_comments]"
      ],
      "execution_count": null,
      "outputs": []
    },
    {
      "cell_type": "code",
      "metadata": {
        "id": "GS8sDOrUj-1L"
      },
      "source": [
        "\n",
        "import pandas as pd\n",
        "\n",
        "data = {\n",
        "    'Title' : Title,\n",
        "    'Comments' : Comments\n",
        "}\n",
        "df2 = pd.DataFrame(data)"
      ],
      "execution_count": null,
      "outputs": []
    },
    {
      "cell_type": "code",
      "metadata": {
        "colab": {
          "base_uri": "https://localhost:8080/",
          "height": 408
        },
        "id": "5z1ONm8hp8i9",
        "outputId": "4b38ae2e-d844-464e-f473-6189b58176d2"
      },
      "source": [
        "df2"
      ],
      "execution_count": null,
      "outputs": [
        {
          "output_type": "execute_result",
          "data": {
            "text/html": [
              "<div>\n",
              "<style scoped>\n",
              "    .dataframe tbody tr th:only-of-type {\n",
              "        vertical-align: middle;\n",
              "    }\n",
              "\n",
              "    .dataframe tbody tr th {\n",
              "        vertical-align: top;\n",
              "    }\n",
              "\n",
              "    .dataframe thead th {\n",
              "        text-align: right;\n",
              "    }\n",
              "</style>\n",
              "<table border=\"1\" class=\"dataframe\">\n",
              "  <thead>\n",
              "    <tr style=\"text-align: right;\">\n",
              "      <th></th>\n",
              "      <th>Title</th>\n",
              "      <th>Comments</th>\n",
              "    </tr>\n",
              "  </thead>\n",
              "  <tbody>\n",
              "    <tr>\n",
              "      <th>0</th>\n",
              "      <td>Galaxy S21 Ultra: Official Introduction Film |...</td>\n",
              "      <td>If you don't include earphones and the charger...</td>\n",
              "    </tr>\n",
              "    <tr>\n",
              "      <th>1</th>\n",
              "      <td>Galaxy S21 Ultra: Official Introduction Film |...</td>\n",
              "      <td>Hi Samsung,\\nCan you please advise on security...</td>\n",
              "    </tr>\n",
              "    <tr>\n",
              "      <th>2</th>\n",
              "      <td>Galaxy S21 Ultra: Official Introduction Film |...</td>\n",
              "      <td>I love Samsung but the reason I'm not buy afte...</td>\n",
              "    </tr>\n",
              "    <tr>\n",
              "      <th>3</th>\n",
              "      <td>Galaxy S21 Ultra: Official Introduction Film |...</td>\n",
              "      <td>Next 3 month i will purchase this phone 😚😍</td>\n",
              "    </tr>\n",
              "    <tr>\n",
              "      <th>4</th>\n",
              "      <td>Galaxy S21 Ultra: Official Introduction Film |...</td>\n",
              "      <td>It's a phone or a camera...?</td>\n",
              "    </tr>\n",
              "    <tr>\n",
              "      <th>...</th>\n",
              "      <td>...</td>\n",
              "      <td>...</td>\n",
              "    </tr>\n",
              "    <tr>\n",
              "      <th>6056</th>\n",
              "      <td>Titanic 3D Re-Release Official Trailer #1 - Le...</td>\n",
              "      <td>I can't see 3d the eye doctor said I had a sti...</td>\n",
              "    </tr>\n",
              "    <tr>\n",
              "      <th>6057</th>\n",
              "      <td>Titanic 3D Re-Release Official Trailer #1 - Le...</td>\n",
              "      <td>Fuck every top commenter!</td>\n",
              "    </tr>\n",
              "    <tr>\n",
              "      <th>6058</th>\n",
              "      <td>Titanic 3D Re-Release Official Trailer #1 - Le...</td>\n",
              "      <td>why don't they just make it for DVD?</td>\n",
              "    </tr>\n",
              "    <tr>\n",
              "      <th>6059</th>\n",
              "      <td>Titanic 3D Re-Release Official Trailer #1 - Le...</td>\n",
              "      <td>Fuck you James Cameron stop Re Re Re releasing...</td>\n",
              "    </tr>\n",
              "    <tr>\n",
              "      <th>6060</th>\n",
              "      <td>Titanic 3D Re-Release Official Trailer #1 - Le...</td>\n",
              "      <td>lame\\n</td>\n",
              "    </tr>\n",
              "  </tbody>\n",
              "</table>\n",
              "<p>6061 rows × 2 columns</p>\n",
              "</div>"
            ],
            "text/plain": [
              "                                                  Title                                           Comments\n",
              "0     Galaxy S21 Ultra: Official Introduction Film |...  If you don't include earphones and the charger...\n",
              "1     Galaxy S21 Ultra: Official Introduction Film |...  Hi Samsung,\\nCan you please advise on security...\n",
              "2     Galaxy S21 Ultra: Official Introduction Film |...  I love Samsung but the reason I'm not buy afte...\n",
              "3     Galaxy S21 Ultra: Official Introduction Film |...         Next 3 month i will purchase this phone 😚😍\n",
              "4     Galaxy S21 Ultra: Official Introduction Film |...                       It's a phone or a camera...?\n",
              "...                                                 ...                                                ...\n",
              "6056  Titanic 3D Re-Release Official Trailer #1 - Le...  I can't see 3d the eye doctor said I had a sti...\n",
              "6057  Titanic 3D Re-Release Official Trailer #1 - Le...                          Fuck every top commenter!\n",
              "6058  Titanic 3D Re-Release Official Trailer #1 - Le...               why don't they just make it for DVD?\n",
              "6059  Titanic 3D Re-Release Official Trailer #1 - Le...  Fuck you James Cameron stop Re Re Re releasing...\n",
              "6060  Titanic 3D Re-Release Official Trailer #1 - Le...                                             lame\\n\n",
              "\n",
              "[6061 rows x 2 columns]"
            ]
          },
          "metadata": {
            "tags": []
          },
          "execution_count": 50
        }
      ]
    },
    {
      "cell_type": "code",
      "metadata": {
        "colab": {
          "base_uri": "https://localhost:8080/"
        },
        "id": "hx5QTZ7aqfDM",
        "outputId": "0ef9462b-fe9a-40c2-c647-0e09802def58"
      },
      "source": [
        "!pip install xlsxwriter"
      ],
      "execution_count": null,
      "outputs": [
        {
          "output_type": "stream",
          "text": [
            "Requirement already satisfied: xlsxwriter in /usr/local/lib/python3.7/dist-packages (1.4.3)\n"
          ],
          "name": "stdout"
        }
      ]
    },
    {
      "cell_type": "code",
      "metadata": {
        "id": "x9uueLU8q6wE"
      },
      "source": [
        "import pandas as pd\n",
        "\n",
        "# Use pandas to write the  file in excel format\n",
        "\n",
        "df2.to_excel(\"with title.xlsx\",sheet_name='comemnts')  \n",
        "\n",
        "\n",
        "writer = pd.ExcelWriter(\"with title.xlsx\", engine='xlsxwriter')\n",
        "df2.to_excel(writer,sheet_name = 'comemnts', index=False)\n",
        "writer.save() "
      ],
      "execution_count": null,
      "outputs": []
    },
    {
      "cell_type": "code",
      "metadata": {
        "id": "vNjQv2fIrDXN"
      },
      "source": [
        ""
      ],
      "execution_count": null,
      "outputs": []
    }
  ]
}